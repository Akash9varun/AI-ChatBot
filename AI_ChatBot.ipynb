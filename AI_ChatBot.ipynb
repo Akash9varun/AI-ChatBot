{
  "nbformat": 4,
  "nbformat_minor": 0,
  "metadata": {
    "colab": {
      "name": "AI ChatBot.ipynb",
      "provenance": [],
      "collapsed_sections": [],
      "authorship_tag": "ABX9TyNtygQkMyjbutGEjJw3OWXx",
      "include_colab_link": true
    },
    "kernelspec": {
      "name": "python3",
      "display_name": "Python 3"
    }
  },
  "cells": [
    {
      "cell_type": "markdown",
      "metadata": {
        "id": "view-in-github",
        "colab_type": "text"
      },
      "source": [
        "<a href=\"https://colab.research.google.com/github/Akash9varun/AI-ChatBot/blob/master/AI_ChatBot.ipynb\" target=\"_parent\"><img src=\"https://colab.research.google.com/assets/colab-badge.svg\" alt=\"Open In Colab\"/></a>"
      ]
    },
    {
      "cell_type": "code",
      "metadata": {
        "id": "pu_TWTFHp07C",
        "colab_type": "code",
        "colab": {}
      },
      "source": [
        "pip3 install nltk\n",
        "\n"
      ],
      "execution_count": null,
      "outputs": []
    },
    {
      "cell_type": "code",
      "metadata": {
        "id": "osircLTsp9kO",
        "colab_type": "code",
        "colab": {
          "base_uri": "https://localhost:8080/",
          "height": 394
        },
        "outputId": "3f9c88fb-1605-4cbc-ef13-e577dc87993d"
      },
      "source": [
        "pip install newspaper3k"
      ],
      "execution_count": null,
      "outputs": [
        {
          "output_type": "stream",
          "text": [
            "Requirement already satisfied: newspaper3k in /usr/local/lib/python3.6/dist-packages (0.2.8)\n",
            "Requirement already satisfied: tldextract>=2.0.1 in /usr/local/lib/python3.6/dist-packages (from newspaper3k) (2.2.2)\n",
            "Requirement already satisfied: PyYAML>=3.11 in /usr/local/lib/python3.6/dist-packages (from newspaper3k) (3.13)\n",
            "Requirement already satisfied: python-dateutil>=2.5.3 in /usr/local/lib/python3.6/dist-packages (from newspaper3k) (2.8.1)\n",
            "Requirement already satisfied: tinysegmenter==0.3 in /usr/local/lib/python3.6/dist-packages (from newspaper3k) (0.3)\n",
            "Requirement already satisfied: beautifulsoup4>=4.4.1 in /usr/local/lib/python3.6/dist-packages (from newspaper3k) (4.6.3)\n",
            "Requirement already satisfied: jieba3k>=0.35.1 in /usr/local/lib/python3.6/dist-packages (from newspaper3k) (0.35.1)\n",
            "Requirement already satisfied: nltk>=3.2.1 in /usr/local/lib/python3.6/dist-packages (from newspaper3k) (3.2.5)\n",
            "Requirement already satisfied: cssselect>=0.9.2 in /usr/local/lib/python3.6/dist-packages (from newspaper3k) (1.1.0)\n",
            "Requirement already satisfied: feedparser>=5.2.1 in /usr/local/lib/python3.6/dist-packages (from newspaper3k) (5.2.1)\n",
            "Requirement already satisfied: Pillow>=3.3.0 in /usr/local/lib/python3.6/dist-packages (from newspaper3k) (7.0.0)\n",
            "Requirement already satisfied: requests>=2.10.0 in /usr/local/lib/python3.6/dist-packages (from newspaper3k) (2.23.0)\n",
            "Requirement already satisfied: lxml>=3.6.0 in /usr/local/lib/python3.6/dist-packages (from newspaper3k) (4.2.6)\n",
            "Requirement already satisfied: feedfinder2>=0.0.4 in /usr/local/lib/python3.6/dist-packages (from newspaper3k) (0.0.4)\n",
            "Requirement already satisfied: requests-file>=1.4 in /usr/local/lib/python3.6/dist-packages (from tldextract>=2.0.1->newspaper3k) (1.5.1)\n",
            "Requirement already satisfied: idna in /usr/local/lib/python3.6/dist-packages (from tldextract>=2.0.1->newspaper3k) (2.9)\n",
            "Requirement already satisfied: setuptools in /usr/local/lib/python3.6/dist-packages (from tldextract>=2.0.1->newspaper3k) (47.3.1)\n",
            "Requirement already satisfied: six>=1.5 in /usr/local/lib/python3.6/dist-packages (from python-dateutil>=2.5.3->newspaper3k) (1.12.0)\n",
            "Requirement already satisfied: chardet<4,>=3.0.2 in /usr/local/lib/python3.6/dist-packages (from requests>=2.10.0->newspaper3k) (3.0.4)\n",
            "Requirement already satisfied: urllib3!=1.25.0,!=1.25.1,<1.26,>=1.21.1 in /usr/local/lib/python3.6/dist-packages (from requests>=2.10.0->newspaper3k) (1.24.3)\n",
            "Requirement already satisfied: certifi>=2017.4.17 in /usr/local/lib/python3.6/dist-packages (from requests>=2.10.0->newspaper3k) (2020.6.20)\n"
          ],
          "name": "stdout"
        }
      ]
    },
    {
      "cell_type": "code",
      "metadata": {
        "id": "xE7jYZFvqAsK",
        "colab_type": "code",
        "colab": {}
      },
      "source": [
        "#Import the libraries \n",
        "from newspaper import Article \n",
        "import random\n",
        "import string\n",
        "import nltk\n",
        "from sklearn.feature_extraction.text import CountVectorizer\n",
        "from sklearn.metrics.pairwise import cosine_similarity\n",
        "import numpy as np\n",
        "import warnings \n",
        "warnings.filterwarnings('ignore')\n"
      ],
      "execution_count": null,
      "outputs": []
    },
    {
      "cell_type": "code",
      "metadata": {
        "id": "QokU0t6BqthP",
        "colab_type": "code",
        "colab": {
          "base_uri": "https://localhost:8080/",
          "height": 34
        },
        "outputId": "56b831b3-5ead-4281-9393-06a3231e3b5a"
      },
      "source": [
        "#Download the punkt package\n",
        "nltk.download('punkt', quiet=True)\n"
      ],
      "execution_count": null,
      "outputs": [
        {
          "output_type": "execute_result",
          "data": {
            "text/plain": [
              "True"
            ]
          },
          "metadata": {
            "tags": []
          },
          "execution_count": 21
        }
      ]
    },
    {
      "cell_type": "code",
      "metadata": {
        "id": "TenDHcZdrO8m",
        "colab_type": "code",
        "colab": {}
      },
      "source": [
        "#Get the article\n",
        "article = Article('https://www.investopedia.com/learn-how-to-trade-the-market-in-5-steps-4692230') \n",
        "article.download()\n",
        "article.parse()\n",
        "article.nlp()\n",
        "corpus = article.text"
      ],
      "execution_count": null,
      "outputs": []
    },
    {
      "cell_type": "code",
      "metadata": {
        "id": "QuwUiAzgsGbD",
        "colab_type": "code",
        "colab": {
          "base_uri": "https://localhost:8080/",
          "height": 1000
        },
        "outputId": "c8fd646a-c481-4a89-deba-3d363aa63dd6"
      },
      "source": [
        "#Print the articles text \n",
        "print(corpus)\n"
      ],
      "execution_count": null,
      "outputs": [
        {
          "output_type": "stream",
          "text": [
            "Millions of neophytes try their hand at the market casino each year, but most walk away a little poorer and a lot wiser, never reaching their full potential. The majority of those who fail have one thing in common - They haven't mastered the basic skills needed to tilt the odds in their favor. However, if one takes the adequate time to learn them then they will be well on their way to increasing their odds of success.\n",
            "\n",
            "World markets attract speculative capital like moths to a flame, with most throwing money at securities without understanding why prices move higher or lower. Instead, they chase hot tips, make binary bets and sit at the feet of gurus, letting them make buy and sell decisions that make no sense. A better path is to learn how to trade the markets with skill and authority.\n",
            "\n",
            "Start with a self-examination that takes a close look at your relationship with money. Do you view life as a struggle, with hard effort required to earn each dollar? Do you believe personal magnetism will attract market wealth to you in the same way it does in other life pursuits? More ominously, have you lost money on a regular basis through other activities and hope the financial markets will treat you more kindly?\n",
            "\n",
            "Whatever your belief system, the market is likely to reinforce that internal view over and over again through profits and losses. Hard work and charisma both support financial success, but losers in other walks of life are likely to turn into losers in the trading game. Don't panic if this sounds like you. Instead, take the self-help route and learn about the relationship between money and self-worth.\n",
            "\n",
            "Once you get your head on straight, you can embark on learning trading, starting with these five basic steps.\n",
            "\n",
            "1. Open a Trading Account\n",
            "\n",
            "Sorry if it seems we're stating the obvious, but you never know (remember the person who did everything to set up his new computer—except to plug it in). Find a good online stock broker and open a stock brokerage account. Even if you already have a personal account, it's not a bad idea to keep a professional trading account separate. Become familiar with the account interface and take advantage of the free trading tools and research offered exclusively to clients. A number of brokers offer virtual trading (more on that in step five). Investopedia has the Best Online Brokers Awards with reviews to help you find the right broker.\n",
            "\n",
            "2. Learn to Read: A Market Crash Course\n",
            "\n",
            "Financial articles. Stock market books. Website tutorials. There's a wealth of information out there, much of it inexpensive to tap. And don’t focus too narrowly on one single aspect of the trading game. Instead, study everything market-wise, including ideas and concepts you don't feel are particularly relevant at this time. Trading launches a journey that often winds up at a destination not anticipated at the starting line. Your broad and detailed market background will come in handy over and over again, even if you think you know exactly where you’re going right now.\n",
            "\n",
            "Here are five must-read books for every new trader:\n",
            "\n",
            "Stock Market Wizards by Jack D. Schwager ﻿ ﻿ Trading for a Living by Dr. Alexander Elder ﻿ ﻿ Technical Analysis of the Financial Markets by John Murphy ﻿ ﻿ Winning on Wall Street by Martin Zweig ﻿ ﻿ The Nature of Risk by Justin Mamus ﻿ ﻿\n",
            "\n",
            "Start to follow the market every day in your spare time. Get up early and read about overnight price action on foreign markets. (U.S. traders didn't have to monitor global markets a couple of decades ago, but that’s all changed due to the rapid growth of electronic trading and derivative instruments that link equity, forex and bond markets around the world.)\n",
            "\n",
            "News sites such as Yahoo Finance, Google Finance and CBS MoneyWatch serve as a great resource for new investors. For more sophisticated coverage, you need look no further than The Wall Street Journal, Bloomberg and, well, us at Investopedia.com.\n",
            "\n",
            "3. Learn to Analyze\n",
            "\n",
            "Study the basics of technical analysis and look at price charts, thousands of them, in all time frames. You may think fundamental analysis offers a better path to profits because it tracks growth curves and revenue streams, but traders live and die by price action that diverges sharply from underlying fundamentals. Do not stop reading company spreadsheets, because they offer a trading edge over those who ignore them. However, they won’t help you survive your first year as a trader.\n",
            "\n",
            "Your experience with charts and technical analysis now brings you into the magical realm of price prediction. Theoretically, securities can only go higher or lower, encouraging a long-side trade or a short sale. In reality, prices can do many other things, including chopping sideways for weeks at a time or whipsawing violently in both directions, shaking out buyers and sellers.\n",
            "\n",
            "The time horizon becomes extremely important at this juncture. Financial markets grind out trends and trading ranges with fractal properties that generate independent price movements at short-term, intermediate-term and long-term intervals. This means a security or index can carve out a long-term uptrend, intermediate downtrend and a short-term trading range, all at the same time. Rather than complicate prediction, most trading opportunities will unfold through interactions between these time intervals.\n",
            "\n",
            "Buying the dip offers a classic example, with traders jumping into a strong uptrend when it sells off in a lower period. The best way to examine this three-dimensional playing field is to look at each security in three time frames, starting with 60-minute, daily and weekly charts.\n",
            "\n",
            "4. Practice Trading\n",
            "\n",
            "It’s now time to get your feet wet without giving up your trading stake. Paper trading, aka virtual trading, offers a perfect solution, allowing the neophyte to follow real-time market actions, making buying and selling decisions that form the outline of a theoretical performance record. It usually involves the use of a stock market simulator that has the look and feel of an actual stock exchange's performance. Make lots of trades, using different holding periods and strategies, and then analyze the results for obvious flaws.\n",
            "\n",
            "Investopedia has a free stock market game, and many brokers let clients engage in paper trading with their real money entry systems, too. This has the added benefit of teaching the software so you don’t hit the wrong buttons when you are playing with family funds.\n",
            "\n",
            "So, when do you make the switch and start trading with real money? There’s no perfect answer because simulated trading carries a flaw that’s likely to show up whenever you start to trade for real, even if your paper results look perfect.\n",
            "\n",
            "Traders need to co-exist peacefully with the twin emotions of greed and fear. Paper trading doesn’t engage these emotions, which can only be experienced by actual profit and loss. In fact, this psychological aspect forces more first-year players out of the game than bad decision-making. Your baby steps forward as a new trader need to recognize this challenge and address remaining issues with money and self-worth.\n",
            "\n",
            "5. Other Ways to Learn and Practice Trading\n",
            "\n",
            "While experience is a fine teacher, don't forget about additional education as you proceed on your trading career. Whether online or in person, classes can be beneficial, and you can find them at levels ranging from novice (with advice on how to analyze the aforementioned analytic charts, for example) to pro. More specialized seminars—often conducted by a professional trader—can provide valuable insight into the overall market and specific investment strategies. Most focus on a specific type of asset, a particular aspect of the market, or a trading technique. Some may be academic, and others more like workshops in which you actively take positions, test out entry and exit strategies, and other exercises (often with a simulator).\n",
            "\n",
            "Paying for research and analysis can be both educational and useful. Some investors may find watching or observing market professionals to be more beneficial than trying to apply newly learned lessons themselves. There are a slew of paid subscription sites available across the web: Two well-respected services include Investors.com and Morningstar.\n",
            "\n",
            "It's also useful to get yourself a mentor—a hands-on coach to guide you, critique your technique and offer advice. If you don't know one, you can buy one. Many online trading schools offer mentoring as part of their continuing ed programs.\n",
            "\n",
            "Manage and Prosper\n",
            "\n",
            "Once up and running with real money, you need to address position and risk management. Each position carries a holding period and technical parameters that favor profit and loss targets, requiring your timely exit when reached. Now consider the mental and logistical demands when you're holding three to five positions at a time, with some moving in your favor while others charge in the opposite direction. Fortunately, there’s plenty of time to learn all aspects of trade management, as long as you don’t overwhelm yourself with too much information.\n",
            "\n",
            "If you haven't done so already, now is the time to start a daily journal that documents all of your trades, including the reasons for taking risk, as well as the holding periods and final profit or loss numbers. This diary of events and observations sets the foundation for a trading edge that will end your novice status and let you to take money out of the market on a consistent basis.\n",
            "\n",
            "The Bottom Line\n",
            "\n",
            "Start your trading journey with a deep education on the financial markets, and then read charts and watch price actions, building strategies based on your observations. Test these strategies with paper trading, while analyzing results and making continuous adjustments. Then complete the first leg of your journey with monetary risk that forces you to address trade management and market psychology issues.\n"
          ],
          "name": "stdout"
        }
      ]
    },
    {
      "cell_type": "code",
      "metadata": {
        "id": "XoRalIhKsW5O",
        "colab_type": "code",
        "colab": {}
      },
      "source": [
        "#Tokenization\n",
        "text = corpus\n",
        "sentence_list = nltk.sent_tokenize(text) # A list of sentences "
      ],
      "execution_count": null,
      "outputs": []
    },
    {
      "cell_type": "code",
      "metadata": {
        "id": "3EGH8-nbs_0p",
        "colab_type": "code",
        "colab": {
          "base_uri": "https://localhost:8080/",
          "height": 54
        },
        "outputId": "bb41ede3-bd73-4402-894b-fb3f167c6299"
      },
      "source": [
        "#Print the list \n",
        "print(sentence_list)"
      ],
      "execution_count": null,
      "outputs": [
        {
          "output_type": "stream",
          "text": [
            "['Millions of neophytes try their hand at the market casino each year, but most walk away a little poorer and a lot wiser, never reaching their full potential.', \"The majority of those who fail have one thing in common - They haven't mastered the basic skills needed to tilt the odds in their favor.\", 'However, if one takes the adequate time to learn them then they will be well on their way to increasing their odds of success.', 'World markets attract speculative capital like moths to a flame, with most throwing money at securities without understanding why prices move higher or lower.', 'Instead, they chase hot tips, make binary bets and sit at the feet of gurus, letting them make buy and sell decisions that make no sense.', 'A better path is to learn how to trade the markets with skill and authority.', 'Start with a self-examination that takes a close look at your relationship with money.', 'Do you view life as a struggle, with hard effort required to earn each dollar?', 'Do you believe personal magnetism will attract market wealth to you in the same way it does in other life pursuits?', 'More ominously, have you lost money on a regular basis through other activities and hope the financial markets will treat you more kindly?', 'Whatever your belief system, the market is likely to reinforce that internal view over and over again through profits and losses.', 'Hard work and charisma both support financial success, but losers in other walks of life are likely to turn into losers in the trading game.', \"Don't panic if this sounds like you.\", 'Instead, take the self-help route and learn about the relationship between money and self-worth.', 'Once you get your head on straight, you can embark on learning trading, starting with these five basic steps.', '1.', \"Open a Trading Account\\n\\nSorry if it seems we're stating the obvious, but you never know (remember the person who did everything to set up his new computer—except to plug it in).\", 'Find a good online stock broker and open a stock brokerage account.', \"Even if you already have a personal account, it's not a bad idea to keep a professional trading account separate.\", 'Become familiar with the account interface and take advantage of the free trading tools and research offered exclusively to clients.', 'A number of brokers offer virtual trading (more on that in step five).', 'Investopedia has the Best Online Brokers Awards with reviews to help you find the right broker.', '2.', 'Learn to Read: A Market Crash Course\\n\\nFinancial articles.', 'Stock market books.', 'Website tutorials.', \"There's a wealth of information out there, much of it inexpensive to tap.\", 'And don’t focus too narrowly on one single aspect of the trading game.', \"Instead, study everything market-wise, including ideas and concepts you don't feel are particularly relevant at this time.\", 'Trading launches a journey that often winds up at a destination not anticipated at the starting line.', 'Your broad and detailed market background will come in handy over and over again, even if you think you know exactly where you’re going right now.', 'Here are five must-read books for every new trader:\\n\\nStock Market Wizards by Jack D. Schwager \\ufeff \\ufeff Trading for a Living by Dr. Alexander Elder \\ufeff \\ufeff Technical Analysis of the Financial Markets by John Murphy \\ufeff \\ufeff Winning on Wall Street by Martin Zweig \\ufeff \\ufeff The Nature of Risk by Justin Mamus \\ufeff \\ufeff\\n\\nStart to follow the market every day in your spare time.', 'Get up early and read about overnight price action on foreign markets.', \"(U.S. traders didn't have to monitor global markets a couple of decades ago, but that’s all changed due to the rapid growth of electronic trading and derivative instruments that link equity, forex and bond markets around the world.)\", 'News sites such as Yahoo Finance, Google Finance and CBS MoneyWatch serve as a great resource for new investors.', 'For more sophisticated coverage, you need look no further than The Wall Street Journal, Bloomberg and, well, us at Investopedia.com.', '3.', 'Learn to Analyze\\n\\nStudy the basics of technical analysis and look at price charts, thousands of them, in all time frames.', 'You may think fundamental analysis offers a better path to profits because it tracks growth curves and revenue streams, but traders live and die by price action that diverges sharply from underlying fundamentals.', 'Do not stop reading company spreadsheets, because they offer a trading edge over those who ignore them.', 'However, they won’t help you survive your first year as a trader.', 'Your experience with charts and technical analysis now brings you into the magical realm of price prediction.', 'Theoretically, securities can only go higher or lower, encouraging a long-side trade or a short sale.', 'In reality, prices can do many other things, including chopping sideways for weeks at a time or whipsawing violently in both directions, shaking out buyers and sellers.', 'The time horizon becomes extremely important at this juncture.', 'Financial markets grind out trends and trading ranges with fractal properties that generate independent price movements at short-term, intermediate-term and long-term intervals.', 'This means a security or index can carve out a long-term uptrend, intermediate downtrend and a short-term trading range, all at the same time.', 'Rather than complicate prediction, most trading opportunities will unfold through interactions between these time intervals.', 'Buying the dip offers a classic example, with traders jumping into a strong uptrend when it sells off in a lower period.', 'The best way to examine this three-dimensional playing field is to look at each security in three time frames, starting with 60-minute, daily and weekly charts.', '4.', 'Practice Trading\\n\\nIt’s now time to get your feet wet without giving up your trading stake.', 'Paper trading, aka virtual trading, offers a perfect solution, allowing the neophyte to follow real-time market actions, making buying and selling decisions that form the outline of a theoretical performance record.', \"It usually involves the use of a stock market simulator that has the look and feel of an actual stock exchange's performance.\", 'Make lots of trades, using different holding periods and strategies, and then analyze the results for obvious flaws.', 'Investopedia has a free stock market game, and many brokers let clients engage in paper trading with their real money entry systems, too.', 'This has the added benefit of teaching the software so you don’t hit the wrong buttons when you are playing with family funds.', 'So, when do you make the switch and start trading with real money?', 'There’s no perfect answer because simulated trading carries a flaw that’s likely to show up whenever you start to trade for real, even if your paper results look perfect.', 'Traders need to co-exist peacefully with the twin emotions of greed and fear.', 'Paper trading doesn’t engage these emotions, which can only be experienced by actual profit and loss.', 'In fact, this psychological aspect forces more first-year players out of the game than bad decision-making.', 'Your baby steps forward as a new trader need to recognize this challenge and address remaining issues with money and self-worth.', '5.', \"Other Ways to Learn and Practice Trading\\n\\nWhile experience is a fine teacher, don't forget about additional education as you proceed on your trading career.\", 'Whether online or in person, classes can be beneficial, and you can find them at levels ranging from novice (with advice on how to analyze the aforementioned analytic charts, for example) to pro.', 'More specialized seminars—often conducted by a professional trader—can provide valuable insight into the overall market and specific investment strategies.', 'Most focus on a specific type of asset, a particular aspect of the market, or a trading technique.', 'Some may be academic, and others more like workshops in which you actively take positions, test out entry and exit strategies, and other exercises (often with a simulator).', 'Paying for research and analysis can be both educational and useful.', 'Some investors may find watching or observing market professionals to be more beneficial than trying to apply newly learned lessons themselves.', 'There are a slew of paid subscription sites available across the web: Two well-respected services include Investors.com and Morningstar.', \"It's also useful to get yourself a mentor—a hands-on coach to guide you, critique your technique and offer advice.\", \"If you don't know one, you can buy one.\", 'Many online trading schools offer mentoring as part of their continuing ed programs.', 'Manage and Prosper\\n\\nOnce up and running with real money, you need to address position and risk management.', 'Each position carries a holding period and technical parameters that favor profit and loss targets, requiring your timely exit when reached.', \"Now consider the mental and logistical demands when you're holding three to five positions at a time, with some moving in your favor while others charge in the opposite direction.\", 'Fortunately, there’s plenty of time to learn all aspects of trade management, as long as you don’t overwhelm yourself with too much information.', \"If you haven't done so already, now is the time to start a daily journal that documents all of your trades, including the reasons for taking risk, as well as the holding periods and final profit or loss numbers.\", 'This diary of events and observations sets the foundation for a trading edge that will end your novice status and let you to take money out of the market on a consistent basis.', 'The Bottom Line\\n\\nStart your trading journey with a deep education on the financial markets, and then read charts and watch price actions, building strategies based on your observations.', 'Test these strategies with paper trading, while analyzing results and making continuous adjustments.', 'Then complete the first leg of your journey with monetary risk that forces you to address trade management and market psychology issues.']\n"
          ],
          "name": "stdout"
        }
      ]
    },
    {
      "cell_type": "code",
      "metadata": {
        "id": "zGGeTuO-tMl3",
        "colab_type": "code",
        "colab": {}
      },
      "source": [
        "#Function to return a random greeting response to users greeting \n",
        "def greeting_response(text):\n",
        "  text = text.lower()\n",
        "\n",
        "  #Bots greeting response\n",
        "  bot_greetings = ['hi', 'hey', 'hello', 'hola']\n",
        "  #Users greeting\n",
        "  user_greetings = ['hi', 'hey', 'hello', 'hola', 'greetings', 'wassup']\n",
        "\n",
        "  for word in text.split():\n",
        "    if word in user_greetings:\n",
        "      return random.choice(bot_greetings)"
      ],
      "execution_count": null,
      "outputs": []
    },
    {
      "cell_type": "code",
      "metadata": {
        "id": "D2joYOpavgNX",
        "colab_type": "code",
        "colab": {}
      },
      "source": [
        "def index_sort(list_var):\n",
        "  length = len(list_var)\n",
        "  list_index = list(range(0,length))\n",
        "\n",
        "  x = list_var\n",
        "  for i in range(length):\n",
        "    for j in range(length):\n",
        "      if x[list_index[i]] > x[list_index[j]]:\n",
        "        #swap\n",
        "        temp = list_index[i]\n",
        "        list_index[i] = list_index[j]\n",
        "        list_index[j] = temp\n",
        "\n",
        "  return list_index"
      ],
      "execution_count": null,
      "outputs": []
    },
    {
      "cell_type": "code",
      "metadata": {
        "id": "26dpuaBUueqX",
        "colab_type": "code",
        "colab": {}
      },
      "source": [
        "#Create the bots response \n",
        "def bot_response(user_input):\n",
        "  user_input = user_input.lower()\n",
        "  sentence_list.append(user_input)\n",
        "  bot_response = ''\n",
        "  cm = CountVectorizer().fit_transform(sentence_list)\n",
        "  similarity_scores = cosine_similarity(cm[-1],cm)\n",
        "  similarity_scores_list = similarity_scores.flatten()\n",
        "  index = index_sort(similarity_scores_list)\n",
        "  index = index[1:]\n",
        "  response_flag = 0\n",
        "\n",
        "  j = 0\n",
        "  for i in range(len(index)):\n",
        "    if similarity_scores_list[index[i]] > 0.0:\n",
        "      bot_response = bot_response+''+sentence_list[index[i]]\n",
        "      response_flag = 1\n",
        "      j = j+1\n",
        "    if j > 2:\n",
        "      break\n",
        "\n",
        "  if response_flag == 0:\n",
        "     bot_response = bot_response+''+\"I apologize, I don't understand.\"\n",
        "\n",
        "  sentence_list.remove(user_input)\n",
        "\n",
        "  return bot_response"
      ],
      "execution_count": null,
      "outputs": []
    },
    {
      "cell_type": "code",
      "metadata": {
        "id": "ZFJ-93Zm0GRC",
        "colab_type": "code",
        "colab": {
          "base_uri": "https://localhost:8080/",
          "height": 141
        },
        "outputId": "166eb021-adf1-42e3-e6a9-95557f5fe2d8"
      },
      "source": [
        "#Start the chat \n",
        "\n",
        "print('AI Bot: I am AI Bot. I will answer your queries .if you want to exit,type bye.')\n",
        "\n",
        "exit_list = ['exit', 'see you later', 'bye', 'quit', 'break']\n",
        "while(True):\n",
        "  user_input = input()\n",
        "  if user_input.lower() in exit_list:\n",
        "    print('AI Bot: Chat with you later..')\n",
        "    break\n",
        "  else:\n",
        "    if greeting_response(user_input) != None:\n",
        "      print('AI Bot : '+greeting_response(user_input))\n",
        "    else:\n",
        "      print('AI Bot : '+bot_response(user_input))\n",
        "      \n",
        "      \n",
        "\n"
      ],
      "execution_count": null,
      "outputs": [
        {
          "output_type": "stream",
          "text": [
            "AI Bot: I am AI Bot. I will answer your queries .if you want to exit,type bye.\n",
            "hi\n",
            "AI Bot : hello\n",
            "how to trade\n",
            "AI Bot : A better path is to learn how to trade the markets with skill and authority.There’s no perfect answer because simulated trading carries a flaw that’s likely to show up whenever you start to trade for real, even if your paper results look perfect.Whether online or in person, classes can be beneficial, and you can find them at levels ranging from novice (with advice on how to analyze the aforementioned analytic charts, for example) to pro.\n"
          ],
          "name": "stdout"
        }
      ]
    },
    {
      "cell_type": "code",
      "metadata": {
        "id": "h4WhMqiWwvni",
        "colab_type": "code",
        "colab": {}
      },
      "source": [
        ""
      ],
      "execution_count": null,
      "outputs": []
    },
    {
      "cell_type": "code",
      "metadata": {
        "id": "qSA8B83nsr_9",
        "colab_type": "code",
        "colab": {}
      },
      "source": [
        ""
      ],
      "execution_count": null,
      "outputs": []
    },
    {
      "cell_type": "code",
      "metadata": {
        "colab_type": "code",
        "id": "K91mv-gVqY7O",
        "colab": {}
      },
      "source": [
        ""
      ],
      "execution_count": null,
      "outputs": []
    }
  ]
}